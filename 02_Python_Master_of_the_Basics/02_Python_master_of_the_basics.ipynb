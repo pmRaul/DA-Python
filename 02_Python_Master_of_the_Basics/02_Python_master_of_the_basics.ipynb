{
 "cells": [
  {
   "cell_type": "markdown",
   "id": "f68849a5",
   "metadata": {},
   "source": [
    "[![Open In Colab](https://colab.research.google.com/assets/colab-badge.svg)](https://colab.research.google.com/github/pmRaul/DA-Python/blob/main/02_Python_Master_of_the_Basics/02_Python_master_of_the_basics.ipynb)\n",
    "\n",
    "\n",
    "# Master the Basics: Key Programming Concepts with Python\n",
    "# Introduction to Python\n",
    "\n",
    "In the previous post, we explored `Python` and its applications in the field of data analysis. We covered how to install it and looked at various tools you can use to work with Python, ranging from *scripts* in text editors like `VSCode` to *notebooks* in `Jupyter` or `Google Colab`.\n",
    "\n",
    "This post will introduce you to the fundamental syntax of `Python` to help you grasp essential programming concepts and understand the mechanics of the language. `Python` is designed to be simple and explicit, closely resembling the idea of *pseudocode*.\n",
    "\n",
    "## Objects in Python\n",
    "\n",
    "In `Python`, everything whether a number, a string, a function, a class, a module, etc. is considered an `object`. This means that all data structures are treated uniformly, regardless of their type. This characteristic is one of the reasons why `Python` is so flexible.\n",
    "\n",
    "## Comments\n",
    "\n",
    "To include text that won’t be executed, we use the `#` symbol. This is particularly useful for adding `comments` to your code, explaining functionality, or providing any relevant details that another person reading the program should take into account.\n",
    "\n",
    "```python\n",
    "# This is a comment; Python will ignore this line.\n",
    "```\n",
    "\n",
    "###### Variables & References\n",
    "\n",
    "When you assign a `variable` in `Python`, you're creating a `reference` to the object on the right side of the `=` sign. This implies that any changes made to the original object will be reflected in the new variable, unlike if a copy were created.\n"
   ]
  },
  {
   "cell_type": "code",
   "execution_count": 1,
   "id": "e4d856ab",
   "metadata": {},
   "outputs": [
    {
     "data": {
      "text/plain": [
       "[1, 2, 3]"
      ]
     },
     "execution_count": 1,
     "metadata": {},
     "output_type": "execute_result"
    }
   ],
   "source": [
    "a = [1, 2, 3]\n",
    "a"
   ]
  },
  {
   "cell_type": "markdown",
   "id": "8d07621a",
   "metadata": {},
   "source": [
    "💡 In this example, the variable `a` is a `list`, a data structure provided by `Python` for storing objects sequentially. We will discuss lists (and other data structures) in more detail later."
   ]
  },
  {
   "cell_type": "code",
   "execution_count": 6,
   "id": "f1bf0469",
   "metadata": {},
   "outputs": [
    {
     "name": "stdout",
     "output_type": "stream",
     "text": [
      "[1, 2, 3, 4, 4, 4, 4, 4]\n",
      "[1, 2, 3, 4, 4, 4, 4, 4]\n"
     ]
    }
   ],
   "source": [
    "b = a\n",
    "a.append(4)\n",
    "print(a)\n",
    "print(b)"
   ]
  },
  {
   "cell_type": "markdown",
   "id": "f5c5a670",
   "metadata": {},
   "source": [
    "Understanding when, how, and why data are copied or referenced is crucial, especially when working with large *datasets*.\n",
    "\n",
    "###### Dynamic References\n",
    "\n",
    "Unlike other languages, a variable in `Python` (as a reference to another object) does not have a fixed type. All type information is stored within the object itself."
   ]
  },
  {
   "cell_type": "code",
   "execution_count": 7,
   "id": "34fa53d8",
   "metadata": {},
   "outputs": [
    {
     "name": "stdout",
     "output_type": "stream",
     "text": [
      "1\n",
      "hola\n"
     ]
    }
   ],
   "source": [
    "\n",
    "\n",
    "a = 1\n",
    "print(a)\n",
    "\n",
    "a = \"hola\"\n",
    "print(a)"
   ]
  },
  {
   "cell_type": "markdown",
   "id": "96a4f0fd",
   "metadata": {},
   "source": [
    "You can change the object a variable references at any time. To determine the type of an object that a variable refers to, you can use the `isinstance` function."
   ]
  },
  {
   "cell_type": "code",
   "execution_count": 9,
   "id": "5452f4f9",
   "metadata": {},
   "outputs": [
    {
     "name": "stdout",
     "output_type": "stream",
     "text": [
      "True\n",
      "False\n",
      "True\n"
     ]
    }
   ],
   "source": [
    "### a is an integer (int)\n",
    "\n",
    "a = 1\n",
    "print(isinstance(a, int))\n",
    "\n",
    "\n",
    "### a is not a string (str)\n",
    "\n",
    "a = 1\n",
    "print(isinstance(a, str))\n",
    "\n",
    "### a is now a string (str)\n",
    "\n",
    "\n",
    "a = \"hola\"\n",
    "print(isinstance(a, str))"
   ]
  },
  {
   "cell_type": "markdown",
   "id": "4a34199b",
   "metadata": {},
   "source": [
    "###### Methods & Attributes\n",
    "\n",
    "Most `objects` in `Python` have `methods` (functions associated with the object) and `attributes` (other objects stored within it). For instance, a `str` object has methods for converting to uppercase, splitting into characters, and more."
   ]
  },
  {
   "cell_type": "code",
   "execution_count": 10,
   "id": "a86950cf",
   "metadata": {},
   "outputs": [
    {
     "name": "stdout",
     "output_type": "stream",
     "text": [
      "Hola\n",
      "HOLA\n"
     ]
    }
   ],
   "source": [
    "a = \"hola\"\n",
    "print(a.capitalize())\n",
    "\n",
    "print(a.upper())"
   ]
  },
  {
   "cell_type": "markdown",
   "id": "40680c3a",
   "metadata": {},
   "source": [
    "This provides substantial default functionality that we can leverage, saving us from having to implement these features ourselves.\n",
    "\n",
    "###### Binary Operators & Comparison\n",
    "\n",
    "`Python` provides virtually all the binary operators you would expect from a programming language"
   ]
  },
  {
   "cell_type": "code",
   "execution_count": 11,
   "id": "e7186f0d",
   "metadata": {},
   "outputs": [
    {
     "name": "stdout",
     "output_type": "stream",
     "text": [
      "2\n",
      "1\n",
      "6\n",
      "0.5\n",
      "1\n",
      "8\n",
      "False\n",
      "True\n"
     ]
    }
   ],
   "source": [
    "### Addition\n",
    "\n",
    "suma = 1 + 1\n",
    "print(suma)\n",
    "\n",
    "### Subtraction\n",
    "\n",
    "resta = 2 - 1\n",
    "print(resta)\n",
    "\n",
    "\n",
    "### Multiplication\n",
    "\n",
    "multiplicacion = 2 * 3\n",
    "print(multiplicacion)\n",
    "\n",
    "### Division\n",
    "\n",
    "division = 1 / 2\n",
    "print(division)\n",
    "\n",
    "\n",
    "### Floor division\n",
    "\n",
    "division_entera = 3 // 2\n",
    "print(division_entera)\n",
    "\n",
    "\n",
    "### Exponentiation\n",
    "\n",
    "expo = 2**3\n",
    "print(expo)\n",
    "\n",
    "### AND operator (True if both are True)\n",
    "\n",
    "operator_and = True & False\n",
    "print(operator_and)\n",
    "\n",
    "\n",
    "### OR operator (True if at least one is True)\n",
    "\n",
    "operator_or = True | False\n",
    "print(operator_or)\n"
   ]
  },
  {
   "cell_type": "markdown",
   "id": "5627c621",
   "metadata": {},
   "source": [
    "The same goes for comparison operators."
   ]
  },
  {
   "cell_type": "code",
   "execution_count": 12,
   "id": "ce0060ba",
   "metadata": {},
   "outputs": [
    {
     "name": "stdout",
     "output_type": "stream",
     "text": [
      "False\n",
      "True\n",
      "False\n",
      "True\n",
      "True\n",
      "False\n"
     ]
    }
   ],
   "source": [
    "### Equality\n",
    "\n",
    "igualdad = 1 == 2\n",
    "print(igualdad)\n",
    "\n",
    "### Inequality\n",
    "\n",
    "no_igual = 1 != 2\n",
    "print(no_igual)\n",
    "\n",
    "\n",
    "\n",
    "### Less than\n",
    "\n",
    "lt = 1 < 1\n",
    "print(lt)\n",
    "\n",
    "### Less than or equal to\n",
    "\n",
    "lt_eq = 1 <= 1\n",
    "print(lt_eq)\n",
    "\n",
    "\n",
    "### Greater than \n",
    "\n",
    "gt = 3 > 2\n",
    "print(gt)\n",
    "\n",
    "\n",
    "### Greater than or equal to\n",
    "\n",
    "gt_eq = 2 >= 3\n",
    "print(gt_eq)\n"
   ]
  },
  {
   "cell_type": "markdown",
   "id": "dbff7bd2",
   "metadata": {},
   "source": [
    "###### Basic Data Types\n",
    "\n",
    "`Python` provides several built-in data types\n",
    "\n",
    "### Decimal number\n",
    "\n",
    "float\n",
    "\n",
    "\n",
    "\n",
    "\n",
    "    float\n",
    "\n",
    "\n",
    "### Integer\n",
    "\n",
    "int\n",
    "\n",
    "\n",
    "\n",
    "\n",
    "    int\n",
    "\n",
    "\n",
    "### Decimal number\n",
    "\n",
    "a = 1.34\n",
    "\n",
    "### Integer\n",
    "\n",
    "b = 2\n",
    "\n",
    "\n",
    "### string\n",
    "\n",
    "str\n",
    "\n",
    "\n",
    "One of the features that `Python` shines for is its power when it comes to working with *strings*.\n",
    "\n",
    "\n",
    "```python\n",
    "a = 'this is a string'\n",
    "b = \"we can use single or double quotes\"\n",
    "c = \"\"\"\n",
    "    We can also create multi-line strings\n",
    "    using triple quotes (single or double)\n",
    "\"\"\"\n",
    "```\n",
    "\n",
    "The `print` function is helpful for displaying strings in the console."
   ]
  },
  {
   "cell_type": "code",
   "execution_count": 13,
   "id": "d01b49ab",
   "metadata": {},
   "outputs": [
    {
     "name": "stdout",
     "output_type": "stream",
     "text": [
      "\n",
      "    We can also create multi-line strings\n",
      "    using triple quotes (single or double)\n",
      "\n"
     ]
    }
   ],
   "source": [
    "a = 'this is a string'\n",
    "b = \"we can use single or double quotes\"\n",
    "c = \"\"\"\n",
    "    We can also create multi-line strings\n",
    "    using triple quotes (single or double)\n",
    "\"\"\"\n",
    "\n",
    "print(c)"
   ]
  },
  {
   "cell_type": "markdown",
   "id": "46739ad7",
   "metadata": {},
   "source": [
    "You can also convert other data types to a string using the `str` function."
   ]
  },
  {
   "cell_type": "code",
   "execution_count": 14,
   "id": "fed6aa2a",
   "metadata": {},
   "outputs": [
    {
     "data": {
      "text/plain": [
       "'1.3'"
      ]
     },
     "execution_count": 14,
     "metadata": {},
     "output_type": "execute_result"
    }
   ],
   "source": [
    "\n",
    "a = 1.3\n",
    "b = str(a)\n",
    "b"
   ]
  },
  {
   "cell_type": "markdown",
   "id": "6a0fdcd8",
   "metadata": {},
   "source": [
    "However, the most flexible approach is using *string templates*."
   ]
  },
  {
   "cell_type": "code",
   "execution_count": null,
   "id": "e5f77069",
   "metadata": {},
   "outputs": [],
   "source": [
    "\n",
    "c = f\"The value of 'a' is {a}\"\n",
    "print(c)"
   ]
  },
  {
   "cell_type": "markdown",
   "id": "b2d7424e",
   "metadata": {},
   "source": [
    "### boolean\n",
    "\n",
    "bool\n",
    "\n",
    "\n",
    "There are only two boolean values: `True` and `False`.\n",
    "\n",
    "\n",
    "\n",
    "### Byte String\n",
    "\n",
    "bytes\n",
    "\n",
    "\n",
    "\n",
    "### None value (representing the absence of value)\n",
    "\n",
    "None\n",
    "\n",
    "###### Control flow\n",
    "\n",
    "In `Python`, several reserved keywords exist for conditional logic, loops, and other flow control mechanisms.\n"
   ]
  },
  {
   "cell_type": "code",
   "execution_count": 15,
   "id": "abd2bb48",
   "metadata": {},
   "outputs": [
    {
     "name": "stdout",
     "output_type": "stream",
     "text": [
      "positivo\n"
     ]
    }
   ],
   "source": [
    "\n",
    "\n",
    "### if, elif, else\n",
    "\n",
    "x = 1\n",
    "\n",
    "if x < 0:\n",
    "    print(\"negativo\")\n",
    "elif x == 0:\n",
    "    print(\"cero\")\n",
    "else:\n",
    "    print(\"positivo\")\n"
   ]
  },
  {
   "cell_type": "markdown",
   "id": "eaa12deb",
   "metadata": {},
   "source": [
    "⚠️ In `Python`, code is structured using indentation rather than curly braces, as in some other languages.\n",
    "\n",
    "We use `for` loops to iterate over an `iterator`.\n"
   ]
  },
  {
   "cell_type": "code",
   "execution_count": 16,
   "id": "8b93bf84",
   "metadata": {},
   "outputs": [
    {
     "name": "stdout",
     "output_type": "stream",
     "text": [
      "0\n",
      "1\n",
      "2\n"
     ]
    }
   ],
   "source": [
    "\n",
    "### for loop\n",
    "\n",
    "for i in range(3):\n",
    "    print(i)"
   ]
  },
  {
   "cell_type": "markdown",
   "id": "0a65636a",
   "metadata": {},
   "source": [
    "\n",
    "\n",
    "> 💡 The `range` function returns an iterator over a sequence of consecutive integers.\n",
    "\n",
    "We can skip to the next step in a loop using `continue`."
   ]
  },
  {
   "cell_type": "code",
   "execution_count": 17,
   "id": "51281148",
   "metadata": {},
   "outputs": [
    {
     "name": "stdout",
     "output_type": "stream",
     "text": [
      "0\n",
      "2\n",
      "4\n"
     ]
    }
   ],
   "source": [
    "\n",
    "for i in range(5):\n",
    "    # skip the odd numbers\n",
    "    if i % 2:\n",
    "        continue\n",
    "    print(i)\n"
   ]
  },
  {
   "cell_type": "markdown",
   "id": "6c4f814e",
   "metadata": {},
   "source": [
    "We can also terminate the loop early with `break`."
   ]
  },
  {
   "cell_type": "code",
   "execution_count": 18,
   "id": "e3f56dca",
   "metadata": {},
   "outputs": [
    {
     "name": "stdout",
     "output_type": "stream",
     "text": [
      "0\n",
      "1\n",
      "2\n"
     ]
    }
   ],
   "source": [
    "\n",
    "for i in range(5):\n",
    "    # terminate when reaching 3\n",
    "    if i >= 3:\n",
    "        break\n",
    "    print(i)"
   ]
  },
  {
   "cell_type": "markdown",
   "id": "5832aedd",
   "metadata": {},
   "source": [
    "Similarly, we can use a `while` loop to execute code while a condition holds true."
   ]
  },
  {
   "cell_type": "code",
   "execution_count": 19,
   "id": "c8fa35e7",
   "metadata": {},
   "outputs": [
    {
     "name": "stdout",
     "output_type": "stream",
     "text": [
      "0\n",
      "1\n",
      "2\n"
     ]
    }
   ],
   "source": [
    "i = 0\n",
    "while i < 3:\n",
    "    print(i)\n",
    "    i = i + 1"
   ]
  },
  {
   "cell_type": "markdown",
   "id": "9221d3a5",
   "metadata": {},
   "source": [
    "Python offers a ternary operator for concise conditional expressions."
   ]
  },
  {
   "cell_type": "code",
   "execution_count": 20,
   "id": "687f4258",
   "metadata": {},
   "outputs": [
    {
     "data": {
      "text/plain": [
       "1"
      ]
     },
     "execution_count": 20,
     "metadata": {},
     "output_type": "execute_result"
    }
   ],
   "source": [
    "x = 1\n",
    "if x > 0:\n",
    "    a = x\n",
    "else:\n",
    "    a = 0\n",
    "a"
   ]
  },
  {
   "cell_type": "code",
   "execution_count": 21,
   "id": "82f669e1",
   "metadata": {},
   "outputs": [
    {
     "data": {
      "text/plain": [
       "1"
      ]
     },
     "execution_count": 21,
     "metadata": {},
     "output_type": "execute_result"
    }
   ],
   "source": [
    "### Equivalent to the previous expression\n",
    "\n",
    "a = x if x > 0 else 0\n",
    "a"
   ]
  },
  {
   "cell_type": "markdown",
   "id": "2264162a",
   "metadata": {},
   "source": [
    "###### Modules\n",
    "\n",
    "In `Python`, any file ending in `.py` is considered a `module` and can be imported to access its code.\n",
    "\n",
    "> ⚠️ We will discuss functions in more depth in future posts, but for now, it is essential to understand that the function `f` takes a variable `x` and returns it multiplied by 2.\n",
    "\n",
    "There are several ways to import modules in Python. Here are a few examples:"
   ]
  },
  {
   "cell_type": "code",
   "execution_count": null,
   "id": "743ddcad",
   "metadata": {},
   "outputs": [],
   "source": [
    "# Importing the module `module` containing this code:\n",
    "#\n",
    "# def f(x):\n",
    "#     return 2*x\n",
    "\n",
    "import module\n",
    "\n",
    "module.f(1)\n",
    "\n",
    "### We can assign a new name to the module\n",
    "\n",
    "import module as m\n",
    "\n",
    "m.f(2)\n",
    "\n",
    "### We can use the function directly without the module's name\n",
    "\n",
    "from module import f\n",
    "\n",
    "f(3)\n",
    "\n",
    "\n",
    "### We can assign a new name to the function\n",
    "\n",
    "from module import f as mf\n",
    "\n",
    "mf(4)\n",
    "\n",
    "\n",
    "\n",
    "### We can import everything from the module (not recommended)\n",
    "\n",
    "from module import *\n",
    "\n",
    "f(5)"
   ]
  },
  {
   "cell_type": "markdown",
   "id": "0d44d2cb",
   "metadata": {},
   "source": [
    "###### Next Steps\n",
    "\n",
    "This concludes our exploration of `Python`’s basic concepts. Those already familiar with programming will find `Python`'s syntax intuitive, with functionality similar to that of any modern language. Over time, they will realize that `Python`'s simplicity, its extensive default functionality, and the vast range of modules available in its ecosystem will make them more productive, allowing them to express more with less code. For those new to programming, `Python` will prove to be an easy-to-learn language, enabling them to develop interesting programs without the need for hundreds of hours of practice.\n",
    "\n",
    "In the next post of this series, we will cover `Python`'s data structures, which will enable us to tackle more complex and engaging tasks.\n",
    "\n",
    "## Exercises for Masters of the Basics\n",
    "\n",
    "Below are some practical exercises to help reinforce the concepts discussed."
   ]
  },
  {
   "cell_type": "markdown",
   "id": "d5641f36",
   "metadata": {},
   "source": [
    "### Exercise 1: Create a function that calculates the factorial of a number\n",
    "\n",
    "Write a function that takes an integer as an argument and returns the factorial of that number.\n",
    "\n",
    "<details>\n",
    "<summary>Hint</summary>\n",
    "\n",
    "To solve this problem, you might want to use recursion. Recursion is when a function calls itself to break the problem down into smaller, more manageable parts. \n",
    "\n",
    "In this case, think of the factorial as `n * (n-1)!` and so on, until you reach the base case where `n == 0`.\n",
    "</details>\n"
   ]
  },
  {
   "cell_type": "code",
   "execution_count": null,
   "id": "b89b8299",
   "metadata": {},
   "outputs": [],
   "source": []
  },
  {
   "cell_type": "markdown",
   "id": "d07e760a",
   "metadata": {},
   "source": [
    "<details>\n",
    "<summary>Solution</summary>\n",
    "\n",
    "```python\n",
    "def factorial(n):\n",
    "    if n == 0:\n",
    "        return 1\n",
    "    else:\n",
    "        return n * factorial(n - 1)\n",
    "```\n",
    "</details>\n"
   ]
  },
  {
   "cell_type": "markdown",
   "id": "a754065f",
   "metadata": {},
   "source": [
    "### Exercise 2: Filter a list to obtain only even numbers\n",
    "\n",
    "Write a code snippet that filters a list of numbers and returns only the even ones.\n",
    "\n",
    "<details> \n",
    "<summary>Hint</summary> \n",
    "\n",
    "You can use a `lambda` function to make the solution concise. A `lambda` function is an anonymous function that you can define in a single line. \n",
    "\n",
    "In this case, you can create a `lambda` function that returns `True` if a number is even and use it with the `filter()` function. \n",
    "\n",
    "For example:\n",
    "```python\n",
    "lambda x: x * 2\n",
    "```\n",
    "This creates a function that takes an argument `x` and returns `x` multiplied by 2. In your case, you can use a `lambda` to return `True` if a number is even and apply it with the `filter()` function.\n",
    "</details>"
   ]
  },
  {
   "cell_type": "code",
   "execution_count": null,
   "id": "53572431",
   "metadata": {},
   "outputs": [],
   "source": []
  },
  {
   "cell_type": "markdown",
   "id": "c3ce2be5",
   "metadata": {},
   "source": [
    "\n",
    "<details>\n",
    "<summary>Solution</summary>\n",
    "\n",
    "```python\n",
    "numeros = [1, 2, 3, 4, 5, 6, 7, 8, 9, 10]\n",
    "pares = list(filter(lambda x: x % 2 == 0, numeros))\n",
    "print(pares)\n",
    "```\n",
    "</details>"
   ]
  },
  {
   "cell_type": "markdown",
   "id": "e8a4643c",
   "metadata": {},
   "source": [
    "\n",
    "### Exercise 3: Sort a list of strings alphabetically\n",
    "\n",
    "Create a code snippet that sorts a list of strings in alphabetical order.\n",
    "\n",
    "<details>\n",
    "<summary>Hint</summary> \n",
    "\n",
    "You can use the `sorted()` function, which is a built-in function in Python. However, if you want to use a more advanced sorting function from a library, consider using `sort` from the `operator` module for a customized sorting method.\n",
    "</details>"
   ]
  },
  {
   "cell_type": "code",
   "execution_count": null,
   "id": "49dc76f5",
   "metadata": {},
   "outputs": [],
   "source": []
  },
  {
   "cell_type": "markdown",
   "id": "3dc9c1a4",
   "metadata": {},
   "source": [
    "<details>\n",
    "<summary>Solution</summary>\n",
    "\n",
    "```python\n",
    "cadenas = ['manzana', 'naranja', 'banana', 'pera']\n",
    "cadenas_ordenadas = sorted(cadenas)\n",
    "print(cadenas_ordenadas)\n",
    "```\n",
    "</details>"
   ]
  }
 ],
 "metadata": {
  "kernelspec": {
   "display_name": "Python 3",
   "language": "python",
   "name": "python3"
  },
  "language_info": {
   "codemirror_mode": {
    "name": "ipython",
    "version": 3
   },
   "file_extension": ".py",
   "mimetype": "text/x-python",
   "name": "python",
   "nbconvert_exporter": "python",
   "pygments_lexer": "ipython3",
   "version": "3.12.3"
  }
 },
 "nbformat": 4,
 "nbformat_minor": 5
}
