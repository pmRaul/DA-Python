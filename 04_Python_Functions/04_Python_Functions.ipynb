{
 "cells": [
  {
   "cell_type": "markdown",
   "id": "fea06324",
   "metadata": {},
   "source": [
    "[![Open In Colab](https://colab.research.google.com/assets/colab-badge.svg)](https://colab.research.google.com/github/pmRaul/DA-Python/blob/main/04_Python_Functions/04_Python_Functions.ipynb)"
   ]
  },
  {
   "cell_type": "markdown",
   "id": "25e747d9",
   "metadata": {},
   "source": [
    "# Functions"
   ]
  },
  {
   "cell_type": "markdown",
   "id": "1d8479c2",
   "metadata": {},
   "source": [
    "`Functions` are the main tool that `Python` offers us to organize our code, allowing for its reuse. As a general rule, if you find yourself writing the same code or a similar functionality multiple times, it is very likely that you need a `function`. This `function` would include the code, and when we need to execute it, we invoke it, optionally passing different `arguments` and retrieving the result returned by the `function`."
   ]
  },
  {
   "cell_type": "markdown",
   "id": "15867f56",
   "metadata": {},
   "source": [
    "In `Python`, we define a function with the keyword `def`."
   ]
  },
  {
   "cell_type": "code",
   "execution_count": null,
   "id": "15438ac7",
   "metadata": {},
   "outputs": [],
   "source": [
    "def func():\n",
    "    pass"
   ]
  },
  {
   "cell_type": "markdown",
   "id": "c71cfb01",
   "metadata": {},
   "source": [
    "> ⚠️ We use the reserved word `pass` to tell `Python` to do nothing."
   ]
  },
  {
   "cell_type": "markdown",
   "id": "c9567219",
   "metadata": {},
   "source": [
    "Once we have our function defined, we can invoke it using its name."
   ]
  },
  {
   "cell_type": "code",
   "execution_count": null,
   "id": "00413b29",
   "metadata": {},
   "outputs": [],
   "source": [
    "func()"
   ]
  },
  {
   "cell_type": "markdown",
   "id": "1a558baa",
   "metadata": {},
   "source": [
    "For now, our function does not perform any interesting task. Let’s see how we can make our function print a `string` to the console."
   ]
  },
  {
   "cell_type": "code",
   "execution_count": null,
   "id": "063ebeed",
   "metadata": {},
   "outputs": [],
   "source": [
    "def func():\n",
    "    print('hello')\n",
    "func()"
   ]
  },
  {
   "cell_type": "markdown",
   "id": "ae8520be",
   "metadata": {},
   "source": [
    "As you can see, we include all the code we want to execute inside the function with the correct indentation. Inside a function, we can define new variables that will only be visible within the function itself."
   ]
  },
  {
   "cell_type": "code",
   "execution_count": null,
   "id": "e0e689bd",
   "metadata": {},
   "outputs": [],
   "source": [
    "def func():\n",
    "    s = 'hello'\n",
    "    print(s)\n",
    "func()"
   ]
  },
  {
   "cell_type": "code",
   "execution_count": null,
   "id": "93e995ad",
   "metadata": {},
   "outputs": [],
   "source": [
    "# `s` only exists within the function\n",
    "s"
   ]
  },
  {
   "cell_type": "markdown",
   "id": "e175d40a",
   "metadata": {},
   "source": [
    "However, we can use variables defined outside the `function`."
   ]
  },
  {
   "cell_type": "code",
   "execution_count": null,
   "id": "aca6f877",
   "metadata": {},
   "outputs": [],
   "source": [
    "s = 'hello'\n",
    "\n",
    "def func():\n",
    "    print(s)\n",
    "func()"
   ]
  },
  {
   "cell_type": "code",
   "execution_count": null,
   "id": "72f31550",
   "metadata": {},
   "outputs": [],
   "source": [
    "# `s` now exists both inside and outside the function\n",
    "s"
   ]
  },
  {
   "cell_type": "markdown",
   "id": "ed9753f8",
   "metadata": {},
   "source": [
    "## Arguments"
   ]
  },
  {
   "cell_type": "markdown",
   "id": "a3a4c6f7",
   "metadata": {},
   "source": [
    "In most cases, we want our `function` to perform a certain action abstractly, allowing us to specify the data on which it should act. To do this, we can define `arguments` that the `function` will use during execution."
   ]
  },
  {
   "cell_type": "code",
   "execution_count": null,
   "id": "8f900bff",
   "metadata": {},
   "outputs": [],
   "source": [
    "def func(s):\n",
    "    print(s)\n",
    "func('hello')\n",
    "func('hi')"
   ]
  },
  {
   "cell_type": "markdown",
   "id": "61f68e6e",
   "metadata": {},
   "source": [
    "Now our `function` is much more versatile and reusable. We can define different arguments separated by a comma."
   ]
  },
  {
   "cell_type": "code",
   "execution_count": null,
   "id": "c85a7648",
   "metadata": {},
   "outputs": [],
   "source": [
    "def func(a, b, c):\n",
    "    print(a, b, c)\n",
    "func('hello', 'how', 'are you')"
   ]
  },
  {
   "cell_type": "markdown",
   "id": "3c81bb3a",
   "metadata": {},
   "source": [
    "We can also define optional arguments, so if no value is specified during the function call, the default value is used."
   ]
  },
  {
   "cell_type": "code",
   "execution_count": null,
   "id": "9666bd06",
   "metadata": {},
   "outputs": [],
   "source": [
    "def func(a, b, c='hello'):\n",
    "    print(a, b, c)\n",
    "func('hello', 'how')"
   ]
  },
  {
   "cell_type": "markdown",
   "id": "88cb1056",
   "metadata": {},
   "source": [
    "> ⚠️ Always remember to define the required `arguments` first, and then the optional ones."
   ]
  },
  {
   "cell_type": "markdown",
   "id": "925cf016",
   "metadata": {},
   "source": [
    "It’s possible to use the argument's name when calling a `function`."
   ]
  },
  {
   "cell_type": "code",
   "execution_count": null,
   "id": "9157a0fe",
   "metadata": {},
   "outputs": [],
   "source": [
    "func(a=1, b=2)"
   ]
  },
  {
   "cell_type": "markdown",
   "id": "4607994c",
   "metadata": {},
   "source": [
    "## Returning Values"
   ]
  },
  {
   "cell_type": "markdown",
   "id": "0fc0533b",
   "metadata": {},
   "source": [
    "In addition to receiving `arguments`, a function can return results. To do this, we use the reserved word `return`."
   ]
  },
  {
   "cell_type": "code",
   "execution_count": null,
   "id": "d838c68a",
   "metadata": {},
   "outputs": [],
   "source": [
    "def func(a, b):\n",
    "    return a + b\n",
    "x = func(1, 2)\n",
    "x"
   ]
  },
  {
   "cell_type": "markdown",
   "id": "ef45a4a1",
   "metadata": {},
   "source": [
    "`Python` allows us to return multiple values at once."
   ]
  },
  {
   "cell_type": "code",
   "execution_count": null,
   "id": "c92ebf0d",
   "metadata": {},
   "outputs": [],
   "source": [
    "def func(a, b):\n",
    "    return a + b, a - b\n",
    "x1, x2 = func(1, 2)\n",
    "x1, x2"
   ]
  },
  {
   "cell_type": "markdown",
   "id": "f0112347",
   "metadata": {},
   "source": [
    "## Anonymous Functions"
   ]
  },
  {
   "cell_type": "markdown",
   "id": "594fbbf7",
   "metadata": {},
   "source": [
    "An `anonymous function`, also known as a `lambda function`, is a way of defining functions that only contain one statement, the result of which is automatically returned."
   ]
  },
  {
   "cell_type": "code",
   "execution_count": null,
   "id": "b505f125",
   "metadata": {},
   "outputs": [],
   "source": [
    "def func(x):\n",
    "    return 2 * x"
   ]
  },
  {
   "cell_type": "markdown",
   "id": "a7430033",
   "metadata": {},
   "source": [
    "# Same function, but defined as a lambda function"
   ]
  },
  {
   "cell_type": "code",
   "execution_count": null,
   "id": "978f7f5b",
   "metadata": {},
   "outputs": [],
   "source": [
    "func = lambda x: 2 * x\n",
    "func(2)"
   ]
  },
  {
   "cell_type": "markdown",
   "id": "1f14fece",
   "metadata": {},
   "source": [
    "In data analysis, it is quite common to perform transformations that consist of a single statement, and being able to express this functionality concisely increases our productivity while reducing possible sources of error. We can define anonymous functions with multiple parameters."
   ]
  },
  {
   "cell_type": "code",
   "execution_count": null,
   "id": "490ea76e",
   "metadata": {},
   "outputs": [],
   "source": [
    "func = lambda x, y: x + y\n",
    "func(1, 2)"
   ]
  },
  {
   "cell_type": "markdown",
   "id": "5b0e7d9b",
   "metadata": {},
   "source": [
    "## Generators"
   ]
  },
  {
   "cell_type": "markdown",
   "id": "84746216",
   "metadata": {},
   "source": [
    "`Python` implements a consistent way to iterate over sequences, which we can use to our advantage to define our own iteration logic through a type of function called `generators`. We can define a `generator` the same way we define a normal `function`, changing the word `return` to `yield`. This tells `Python` that although the function has returned a value, the function's execution is not over and will continue to yield values in the future."
   ]
  },
  {
   "cell_type": "code",
   "execution_count": null,
   "id": "dd062b7a",
   "metadata": {},
   "outputs": [],
   "source": [
    "def func(n=10):\n",
    "    for i in range(n):\n",
    "        if i % 2:\n",
    "            yield i\n",
    "gen = func()\n",
    "for i in gen:\n",
    "    print(i)"
   ]
  },
  {
   "cell_type": "markdown",
   "id": "3178827e",
   "metadata": {},
   "source": [
    "An alternative way to define a generator more compactly is as follows:"
   ]
  },
  {
   "cell_type": "code",
   "execution_count": null,
   "id": "2aa19f87",
   "metadata": {},
   "outputs": [],
   "source": [
    "gen = (i for i in range(10) if i % 2)\n",
    "for i in gen:\n",
    "    print(i)"
   ]
  },
  {
   "cell_type": "markdown",
   "id": "c314afa4",
   "metadata": {},
   "source": [
    "In data analysis, it is very common to iterate over large datasets, applying transformations or processing, and depending on the algorithm we are using, we may want to iterate over our data in different ways. A `generator` will be very useful in these situations."
   ]
  },
  {
   "cell_type": "markdown",
   "id": "bf26a97c",
   "metadata": {},
   "source": [
    "## Handling Errors"
   ]
  },
  {
   "cell_type": "markdown",
   "id": "b5138bab",
   "metadata": {},
   "source": [
    "If you’ve worked with `Python` a bit, or have simply followed the examples we’ve been reviewing, you may have noticed that sometimes `Python` returns an error message when something goes wrong. To make our code robust, we need to anticipate these situations by preventing a program from “crashing” or providing useful error messages. For example, the following function expects an argument and returns the same value transformed into an integer. This is possible for some data types, but others (like `strings`) cannot be converted to numbers, and our function will return an error."
   ]
  },
  {
   "cell_type": "code",
   "execution_count": null,
   "id": "0d4c53d4",
   "metadata": {},
   "outputs": [],
   "source": [
    "def func(x):\n",
    "    return int(x)\n",
    "func(1)\n",
    "func('hello')"
   ]
  },
  {
   "cell_type": "markdown",
   "id": "9b345ee7",
   "metadata": {},
   "source": [
    "We can anticipate this problem and provide a better error message with a `try-except` block. Our function will try to execute the code inside the `try` block, and if an error is encountered, it will jump to the `except` block."
   ]
  },
  {
   "cell_type": "code",
   "execution_count": null,
   "id": "42120fd2",
   "metadata": {},
   "outputs": [],
   "source": [
    "def func(x):\n",
    "    try:\n",
    "        return int(x)\n",
    "    except:\n",
    "        print('the argument cannot be converted to int')\n",
    "func(1)\n",
    "func('hello')"
   ]
  },
  {
   "cell_type": "markdown",
   "id": "20e21e4a",
   "metadata": {},
   "source": [
    "Sometimes we may want to execute code regardless of whether there are errors or not. For this, we can use the `finally` block."
   ]
  },
  {
   "cell_type": "code",
   "execution_count": null,
   "id": "4cc4950e",
   "metadata": {},
   "outputs": [],
   "source": [
    "def func(x):\n",
    "    try:\n",
    "        return int(x)\n",
    "    except:\n",
    "        print('the argument cannot be converted to int')\n",
    "    finally:\n",
    "        print('always')\n",
    "func(1)\n",
    "func('hello')"
   ]
  },
  {
   "cell_type": "markdown",
   "id": "bcf95da1",
   "metadata": {},
   "source": [
    "## Summary"
   ]
  },
  {
   "cell_type": "markdown",
   "id": "c8c8ada4",
   "metadata": {},
   "source": [
    "To make our code more robust, readable, and reusable, `Python` offers the option of using `functions`. In this post, we’ve seen how to define such functions, pieces of code that we can invoke at any time by sending `arguments` and returning results. We also talked about anonymous functions, a way to define short functions with a single statement, which are very useful when we need a function immediately. The use of generators allows us to define our own iterable objects, useful in data analysis for iterating over large amounts of data while carrying out specific logic. Lastly, we’ve seen how to handle different errors that may arise when invoking a function to avoid our program “crashing” when an error occurs during its execution."
   ]
  },
  {
   "cell_type": "markdown",
   "id": "3cc7675c",
   "metadata": {},
   "source": [
    "# Are you ready for the challenge?"
   ]
  },
  {
   "cell_type": "markdown",
   "id": "d37068e4",
   "metadata": {},
   "source": [
    "### Exercise 1: Simple Function\n",
    "\n",
    "Create a function `greet` that takes a name as an argument and prints a greeting message.\n"
   ]
  },
  {
   "cell_type": "code",
   "execution_count": null,
   "id": "695499d6",
   "metadata": {},
   "outputs": [],
   "source": [
    "def greet(name):\n",
    "    pass"
   ]
  },
  {
   "cell_type": "markdown",
   "id": "99c04e0e",
   "metadata": {},
   "source": [
    "<details><summary>Solution</summary>\n",
    "\n",
    "```python\n",
    "def greet(name):\n",
    "    print(f'Hello, {name}!')\n",
    "```\n",
    "\n",
    "</details>"
   ]
  },
  {
   "cell_type": "markdown",
   "id": "66e8f4ba",
   "metadata": {},
   "source": [
    "### Exercise 2: Sum of Two Numbers\n",
    "\n",
    "Write a function `add_numbers` that takes two numbers as arguments and returns their sum."
   ]
  },
  {
   "cell_type": "code",
   "execution_count": null,
   "id": "3967538c",
   "metadata": {},
   "outputs": [],
   "source": [
    "def add_numbers(a, b):\n",
    "    pass"
   ]
  },
  {
   "cell_type": "markdown",
   "id": "1ae7844f",
   "metadata": {},
   "source": [
    "<details><summary>Solution</summary>\n",
    "\n",
    "```python\n",
    "def add_numbers(a, b):\n",
    "    return a + b\n",
    "```\n",
    "\n",
    "</details>"
   ]
  },
  {
   "cell_type": "markdown",
   "id": "b29e76de",
   "metadata": {},
   "source": [
    "### Exercise 3: Function with Default Argument\n",
    "\n",
    "Create a function `introduce` that prints a message. The function should take two arguments, a name and an age, with the age being optional and defaulting to 25."
   ]
  },
  {
   "cell_type": "code",
   "execution_count": null,
   "id": "bb11d187",
   "metadata": {},
   "outputs": [],
   "source": [
    "def introduce(name, age=25):\n",
    "    pass"
   ]
  },
  {
   "cell_type": "markdown",
   "id": "8104d0a2",
   "metadata": {},
   "source": [
    "<details><summary>Solution</summary>\n",
    "\n",
    "```python\n",
    "def introduce(name, age=25):\n",
    "    print(f'Hi, my name is {name} and I am {age} years old.')\n",
    "```\n",
    "\n",
    "</details>"
   ]
  },
  {
   "cell_type": "markdown",
   "id": "d7179089",
   "metadata": {},
   "source": [
    "### Exercise 4: Return Multiple Values\n",
    "\n",
    "Write a function `calculate` that takes two numbers and returns their sum and difference."
   ]
  },
  {
   "cell_type": "code",
   "execution_count": null,
   "id": "0da45800",
   "metadata": {},
   "outputs": [],
   "source": [
    "def calculate(a, b):\n",
    "    pass"
   ]
  },
  {
   "cell_type": "markdown",
   "id": "e5e44067",
   "metadata": {},
   "source": [
    "<details><summary>Solution</summary>\n",
    "\n",
    "```python\n",
    "def calculate(a, b):\n",
    "    return a + b, a - b\n",
    "```\n",
    "\n",
    "</details>"
   ]
  },
  {
   "cell_type": "markdown",
   "id": "1da0e238",
   "metadata": {},
   "source": [
    "### Exercise 5: Anonymous (Lambda) Function\n",
    "\n",
    "Create a lambda function that multiplies two numbers and returns the result."
   ]
  },
  {
   "cell_type": "code",
   "execution_count": null,
   "id": "fe8f0a3c",
   "metadata": {},
   "outputs": [],
   "source": [
    "multiply = None"
   ]
  },
  {
   "cell_type": "markdown",
   "id": "8ed23668",
   "metadata": {},
   "source": [
    "<details><summary>Solution</summary>\n",
    "\n",
    "```python\n",
    "multiply = lambda x, y: x * y\n",
    "```\n",
    "\n",
    "</details>"
   ]
  },
  {
   "cell_type": "markdown",
   "id": "ff7f1770",
   "metadata": {},
   "source": [
    "### Exercise 6: Generator Function\n",
    "\n",
    "Write a generator function `odd_numbers` that yields the odd numbers from 0 to a given number `n`."
   ]
  },
  {
   "cell_type": "code",
   "execution_count": null,
   "id": "f3227ade",
   "metadata": {},
   "outputs": [],
   "source": [
    "def odd_numbers(n):\n",
    "    pass"
   ]
  },
  {
   "cell_type": "markdown",
   "id": "98c036f3",
   "metadata": {},
   "source": [
    "<details><summary>Solution</summary>\n",
    "\n",
    "```python\n",
    "def odd_numbers(n):\n",
    "    for i in range(n):\n",
    "        if i % 2 != 0:\n",
    "            yield i\n",
    "```\n",
    "\n",
    "</details>"
   ]
  },
  {
   "cell_type": "markdown",
   "id": "4045ffa1",
   "metadata": {},
   "source": [
    "### Exercise 7: Handling Errors in a Function\n",
    "\n",
    "Create a function `convert_to_int` that takes a string and tries to convert it to an integer. If it can't convert, it should print an error message."
   ]
  },
  {
   "cell_type": "code",
   "execution_count": null,
   "id": "6b989687",
   "metadata": {},
   "outputs": [],
   "source": [
    "def convert_to_int(value):\n",
    "    pass"
   ]
  },
  {
   "cell_type": "markdown",
   "id": "816b1733",
   "metadata": {},
   "source": [
    "<details><summary>Solution</summary>\n",
    "\n",
    "```python\n",
    "def convert_to_int(value):\n",
    "    try:\n",
    "        return int(value)\n",
    "    except ValueError:\n",
    "        print('Cannot convert to an integer')\n",
    "```\n",
    "\n",
    "</details>"
   ]
  }
 ],
 "metadata": {
  "language_info": {
   "name": "python"
  }
 },
 "nbformat": 4,
 "nbformat_minor": 5
}
